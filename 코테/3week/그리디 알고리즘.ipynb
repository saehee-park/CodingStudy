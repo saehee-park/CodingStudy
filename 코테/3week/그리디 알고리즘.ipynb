{
 "cells": [
  {
   "cell_type": "code",
   "execution_count": null,
   "metadata": {},
   "outputs": [
    {
     "name": "stdout",
     "output_type": "stream",
     "text": [
      "5 2\n"
     ]
    }
   ],
   "source": [
    "#11047\n",
    "N,K=map(int, input().split())\n",
    "cnt=0\n",
    "x=[]\n",
    "for i in range(N):\n",
    "    x.append(int(input()))\n",
    "\n",
    "x.sort(reverse=True)\n",
    "for i in x:\n",
    "    if K==0:\n",
    "        break\n",
    "    cnt+=k//i\n",
    "    K=K%i\n",
    "        \n",
    "#런타임에러\n",
    "    "
   ]
  },
  {
   "cell_type": "code",
   "execution_count": 8,
   "metadata": {},
   "outputs": [
    {
     "name": "stdout",
     "output_type": "stream",
     "text": [
      "5\n",
      "3 1 4 3 2\n",
      "5 1\n",
      "13 2\n",
      "22 3\n",
      "28 3\n",
      "32 4\n",
      "32\n"
     ]
    }
   ],
   "source": [
    "#11399\n",
    "n=int(input())\n",
    "\n",
    "ans=0\n",
    "k=list(map(int, input().split()))\n",
    "k.sort()\n",
    "\n",
    "for i in range(n):\n",
    "    ans+=k[i]*n\n",
    "    n-=1\n",
    "print(ans)"
   ]
  },
  {
   "cell_type": "code",
   "execution_count": 15,
   "metadata": {},
   "outputs": [
    {
     "name": "stdout",
     "output_type": "stream",
     "text": [
      "4\n",
      "2 3 1\n",
      "5 2 4 1\n",
      "5 2 10\n",
      "2 3 16\n",
      "2 1 18\n",
      "18\n"
     ]
    }
   ],
   "source": [
    "#13305\n",
    "x=int(input())\n",
    "road=list(map(int, input().split()))\n",
    "price=list(map(int, input().split()))\n",
    "min_price=price[0]\n",
    "ans=0\n",
    "for i in range(x-1):\n",
    "    if price[i]<=min_price:\n",
    "        min_price=price[i]\n",
    "        ans+=price[i]*road[i]\n",
    "    elif price[i]>min_price:\n",
    "        ans+=min_price*road[i]\n",
    "print(ans)\n",
    "    "
   ]
  },
  {
   "cell_type": "code",
   "execution_count": null,
   "metadata": {},
   "outputs": [],
   "source": []
  }
 ],
 "metadata": {
  "kernelspec": {
   "display_name": "Python 3",
   "language": "python",
   "name": "python3"
  },
  "language_info": {
   "codemirror_mode": {
    "name": "ipython",
    "version": 3
   },
   "file_extension": ".py",
   "mimetype": "text/x-python",
   "name": "python",
   "nbconvert_exporter": "python",
   "pygments_lexer": "ipython3",
   "version": "3.8.5"
  }
 },
 "nbformat": 4,
 "nbformat_minor": 4
}

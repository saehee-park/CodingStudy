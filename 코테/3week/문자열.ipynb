{
 "cells": [
  {
   "cell_type": "code",
   "execution_count": 20,
   "metadata": {},
   "outputs": [
    {
     "name": "stdout",
     "output_type": "stream",
     "text": [
      "A\n",
      "65\n"
     ]
    }
   ],
   "source": [
    "#11654\n",
    "x=input()\n",
    "print(ord(x))"
   ]
  },
  {
   "cell_type": "code",
   "execution_count": null,
   "metadata": {},
   "outputs": [],
   "source": [
    "#11720\n",
    "x=int(input())\n",
    "y=input()\n",
    "ans=0\n",
    "for i in y:\n",
    "    ans+=int(i)\n",
    "print(ans)"
   ]
  },
  {
   "cell_type": "code",
   "execution_count": null,
   "metadata": {},
   "outputs": [
    {
     "name": "stdout",
     "output_type": "stream",
     "text": [
      "2\n",
      "3 ABC\n",
      "AAABBBCCC\n"
     ]
    }
   ],
   "source": [
    "#2675\n",
    "x=int(input())\n",
    "ans=''\n",
    "for i in range(x):\n",
    "    a,b=map(str,input().split())\n",
    "    for k in b:\n",
    "        ans+=k*int(a)\n",
    "    print(ans)\n",
    "    ans=''\n",
    "\n"
   ]
  },
  {
   "cell_type": "code",
   "execution_count": null,
   "metadata": {},
   "outputs": [],
   "source": [
    "#1157\n",
    "k={}\n",
    "x=input()\n",
    "x=x.upper()\n",
    "for i in x:\n",
    "    if i in k:\n",
    "        k[i]+=1\n",
    "    else:\n",
    "        k[i]=1\n",
    "cnt=0\n",
    "ans=0\n",
    "for i in k:\n",
    "    if k[i]>cnt:\n",
    "        cnt=k[i]\n",
    "        ans=i\n",
    "    elif k[i]==cnt:\n",
    "        ans=\"?\"\n",
    "\n",
    "print(ans)\n"
   ]
  },
  {
   "cell_type": "code",
   "execution_count": 1,
   "metadata": {},
   "outputs": [
    {
     "name": "stdout",
     "output_type": "stream",
     "text": [
      "Hello my name is K\n",
      "5\n"
     ]
    }
   ],
   "source": [
    "#1152\n",
    "x=list(map(str,input().split()))\n",
    "print(len(x))"
   ]
  },
  {
   "cell_type": "code",
   "execution_count": 3,
   "metadata": {},
   "outputs": [
    {
     "name": "stdout",
     "output_type": "stream",
     "text": [
      "734 893\n",
      "437\n"
     ]
    }
   ],
   "source": [
    "#2908\n",
    "a,b=map(str,input().split())\n",
    "a=a[::-1]\n",
    "b=b[::-1]\n",
    "if a>b:\n",
    "    print(a)\n",
    "if a<b:\n",
    "    print(b)"
   ]
  },
  {
   "cell_type": "code",
   "execution_count": null,
   "metadata": {},
   "outputs": [],
   "source": [
    "#5622\n",
    "x= input().upper()\n",
    "s = ['ABC','DEF','GHI','JKL','MNO','PQRS','TUV','WXYZ']\n",
    "\n",
    "cnt = 0\n",
    "for i in range(len(x)):\n",
    "    for j in s:\n",
    "        if(x[i] in j):\n",
    "            cnt += s.index(j) + 3\n",
    "print(cnt)"
   ]
  },
  {
   "cell_type": "code",
   "execution_count": 10,
   "metadata": {},
   "outputs": [
    {
     "name": "stdout",
     "output_type": "stream",
     "text": [
      "ljes=njak\n",
      "6\n"
     ]
    }
   ],
   "source": [
    "#2941\n",
    "list_1=['c=','c-','dz=','d-','lj','nj','s=','z=']\n",
    "x=input()\n",
    "cnt=0\n",
    "for i in list_1:\n",
    "    if i in x:\n",
    "        x=x.replace(i,'*')\n",
    "print(len(x))"
   ]
  },
  {
   "cell_type": "code",
   "execution_count": null,
   "metadata": {},
   "outputs": [],
   "source": [
    "#1316"
   ]
  }
 ],
 "metadata": {
  "kernelspec": {
   "display_name": "Python 3",
   "language": "python",
   "name": "python3"
  },
  "language_info": {
   "codemirror_mode": {
    "name": "ipython",
    "version": 3
   },
   "file_extension": ".py",
   "mimetype": "text/x-python",
   "name": "python",
   "nbconvert_exporter": "python",
   "pygments_lexer": "ipython3",
   "version": "3.8.5"
  }
 },
 "nbformat": 4,
 "nbformat_minor": 4
}

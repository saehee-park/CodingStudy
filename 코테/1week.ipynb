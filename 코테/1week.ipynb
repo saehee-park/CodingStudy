{
 "cells": [
  {
   "cell_type": "code",
   "execution_count": null,
   "metadata": {},
   "outputs": [],
   "source": [
    "#1 음계\n",
    "\n",
    "x=input()\n",
    "a=list(map(int,x.split()))\n",
    "\n",
    "if a==[1,2,3,4,5,6,7,8]:\n",
    "    print(\"ascending\")\n",
    "elif a==[8,7,6,5,4,3,2,1]:\n",
    "    print(\"descending\")\n",
    "\n",
    "else:\n",
    "    print(\"mixed\")\n",
    "    \n",
    "\n"
   ]
  },
  {
   "cell_type": "code",
   "execution_count": null,
   "metadata": {},
   "outputs": [],
   "source": [
    "#2 블랙잭\n",
    "n,m=map(int,input().split())\n",
    "a=list(map(int, input().split()))\n",
    "b=len(a)\n",
    "sum=0\n",
    "for i in range(0, b-2):\n",
    "    for j in range(i+1, b-1):\n",
    "        for k in range(j+1, b):\n",
    "            if a[i]+a[j]+a[k]>m:\n",
    "                continue\n",
    "            else:\n",
    "                sum=max(sum,a[i]+a[j]+a[k])\n",
    "print(sum)"
   ]
  },
  {
   "cell_type": "code",
   "execution_count": null,
   "metadata": {},
   "outputs": [],
   "source": [
    "#3 수 찾기\n",
    "import sys\n",
    "\n",
    "def binary_search(a, x):\n",
    "    low=0\n",
    "    high = len(a) - 1\n",
    "    \n",
    "    while low <=high:\n",
    "        mid = (low+high) //2\n",
    "        if x== a[mid]:\n",
    "            return 1\n",
    "        elif x> a[mid]:\n",
    "            start = mid +1\n",
    "        else :\n",
    "            end = mid - 1\n",
    "    return 0\n",
    "\n",
    "n=int(input())\n",
    "n_list=list(map(int, input().split()))\n",
    "n_list.sort()\n",
    "m=int(input())\n",
    "m_list=list(map(int, input().split()))\n",
    "\n",
    "for i in range(len(m)):\n",
    "    print(binary_search(a, x[k]))"
   ]
  },
  {
   "cell_type": "code",
   "execution_count": null,
   "metadata": {},
   "outputs": [],
   "source": [
    "#4 스택\n",
    "import sys\n",
    "\n",
    "stack=[]\n",
    "x=int(sys.stdin.readline())\n",
    "for i in range(x):\n",
    "    command = sys.stdin.readline().split()\n",
    "    \n",
    "    if command[0]=='push':\n",
    "        stack.append(command[1])\n",
    "\n",
    "    elif command[0]=='pop':\n",
    "        if len(stack)==0:\n",
    "            print(-1) \n",
    "        else:\n",
    "            print(stack.pop())\n",
    "    elif command[0]=='size':\n",
    "        print( len(stack))\n",
    "    elif command[0]=='empty':\n",
    "        if len(stack)==0:\n",
    "            print(1) \n",
    "        else:\n",
    "            print(0)\n",
    "    elif command[0]=='top':\n",
    "        if len(stack)==0:\n",
    "            print(-1)\n",
    "        else:\n",
    "            print(stack[-1])\n"
   ]
  },
  {
   "cell_type": "code",
   "execution_count": 17,
   "metadata": {},
   "outputs": [
    {
     "name": "stdout",
     "output_type": "stream",
     "text": [
      "2\n",
      "((()\n",
      "NO\n",
      "()()\n",
      "NO\n"
     ]
    }
   ],
   "source": [
    "#5 괄호\n",
    "\n",
    "x=int(input())\n",
    "for i in range(x):\n",
    "    y=input()\n",
    "    b=list(y)\n",
    "    cnt1=0\n",
    "    cnt2=0\n",
    "    for i in b:\n",
    "        if i=='(':\n",
    "            cnt1+=1\n",
    "        elif i==')':\n",
    "            cnt2+=1\n",
    "        if cnt1<cnt2:\n",
    "            print('NO')\n",
    "            break\n",
    "    if cnt1>cnt2:\n",
    "        print('NO')\n",
    "    elif cnt1==cnt2:\n",
    "        print('YES')\n",
    "    "
   ]
  },
  {
   "cell_type": "code",
   "execution_count": 44,
   "metadata": {},
   "outputs": [
    {
     "name": "stdout",
     "output_type": "stream",
     "text": [
      "push\n",
      "['1', '2']\n"
     ]
    }
   ],
   "source": [
    "#6 큐\n",
    "\n",
    "from sys import stdin\n",
    "\n",
    "N = int(stdin.readline())\n",
    "Que = []\n",
    "for i in range(N) :\n",
    "    A = stdin.readline().split()\n",
    "\n",
    "    if A[0] == 'push' : Que.append(A[1])\n",
    "\n",
    "    elif A[0] == 'pop' : \n",
    "        if Que : print(Que.pop(0))\n",
    "        else : print(-1)\n",
    "\n",
    "    elif A[0] == 'size' : print(len(Que))\n",
    "\n",
    "    elif A[0] == 'empty' :\n",
    "        if len(Que) == 0 : print(1)\n",
    "        else : print(0)\n",
    "            \n",
    "    elif A[0] == 'front' :\n",
    "        if len(Que) == 0 : print(-1)\n",
    "        else : print(Que[0])\n",
    "    \n",
    "    elif A[0] == 'back' :\n",
    "        if len(Que) == 0 : print(-1)\n",
    "        else : print(Que[-1])\n",
    "            \n",
    "### 바로 import sys 하니까 런타임 에러뜸"
   ]
  },
  {
   "cell_type": "code",
   "execution_count": 1,
   "metadata": {},
   "outputs": [
    {
     "name": "stdout",
     "output_type": "stream",
     "text": [
      "\n"
     ]
    }
   ],
   "source": [
    "#7 덱\n",
    "import sys\n",
    "input = sys.stdin.readline\n",
    "deque = []\n",
    "n  = int(input())\n",
    "for i in range(n):\n",
    "    command = input().rstrip()\n",
    "    if \" \" in command :\n",
    "        a,b = command.split()\n",
    "        if a == 'push_front' : deque.insert(0,b)\n",
    "        elif a == 'push_back' : deque.append(b)\n",
    "    elif \"pop_front\" == command : \n",
    "        if len(deque) == 0 : print(-1)\n",
    "        else : print(deque.pop(0))\n",
    "    elif \"pop_back\" == command : \n",
    "        if len(deque) == 0 : print(-1)\n",
    "        else : print(deque.pop(-1))\n",
    "    \n",
    "    elif 'size' == command : print(len(deque))\n",
    "    elif 'empty' == command :\n",
    "        if len(deque) == 0 : print(1)\n",
    "        else : print(0)\n",
    "    elif 'front' == command :\n",
    "        if len(deque) == 0 : print(-1)\n",
    "        else : print(deque[0])\n",
    "    elif 'back' == command :\n",
    "        if len(deque) == 0 : print(-1)\n",
    "        else : print(deque[-1])"
   ]
  },
  {
   "cell_type": "code",
   "execution_count": 4,
   "metadata": {},
   "outputs": [
    {
     "name": "stdout",
     "output_type": "stream",
     "text": [
      "baekjoon\n",
      "1 1 0 0 1 0 0 0 0 1 1 0 0 2 0 0 0 0 0 0 0 0 0 0 0 \n"
     ]
    }
   ],
   "source": [
    "#8 알파벳 개수\n",
    "x=input()\n",
    "p={}\n",
    "ap='abcdefghijklmnopqrstuvwxyz'\n",
    "for i in ap:\n",
    "    p[i]=x.count(i)\n",
    "answer=\"\"\n",
    "for k in p.values():\n",
    "    answer+=str(k)+\" \"\n",
    "print(answer)"
   ]
  },
  {
   "cell_type": "code",
   "execution_count": 7,
   "metadata": {
    "scrolled": true
   },
   "outputs": [
    {
     "name": "stdout",
     "output_type": "stream",
     "text": [
      "baekjoon\n",
      "1 0 -1 -1 2 -1 -1 -1 -1 4 3 -1 -1 7 5 -1 -1 -1 -1 -1 -1 -1 -1 -1 -1 -1 \n"
     ]
    }
   ],
   "source": [
    "#9 알파벳 찾기\n",
    "x=str(input())\n",
    "p={}\n",
    "j=-1\n",
    "ap=str('abcdefghijklmnopqrstuvwxyz')\n",
    "\n",
    "for i in ap:\n",
    "    p[i]=-1\n",
    "    for j in range(len(x)):\n",
    "        if i==x[j]:\n",
    "            p[i]=j\n",
    "            break\n",
    "            \n",
    "\n",
    "answer=''    \n",
    "for k in p.values():\n",
    "    answer+=str(k)+\" \"\n",
    "print(answer)"
   ]
  },
  {
   "cell_type": "code",
   "execution_count": null,
   "metadata": {},
   "outputs": [],
   "source": [
    "#10 문자열 분석\n",
    "while True:\n",
    "    try:\n",
    "        l, u, d, s = 0, 0, 0, 0\n",
    "        inp = input()\n",
    "        for i in inp:\n",
    "            if i.islower():\n",
    "                l += 1\n",
    "            elif i.isupper():\n",
    "                u += 1\n",
    "            elif i.isdigit():   \n",
    "                d += 1 \n",
    "            elif i.isspace():\n",
    "                s += 1\n",
    "        print(l, u, d, s)\n",
    "    except EOFError:\n",
    "        break"
   ]
  },
  {
   "cell_type": "code",
   "execution_count": null,
   "metadata": {},
   "outputs": [],
   "source": [
    "#11 단어 길이 재기\n",
    "x=input()\n",
    "print(len(x))"
   ]
  },
  {
   "cell_type": "code",
   "execution_count": null,
   "metadata": {},
   "outputs": [],
   "source": [
    "#12 ROT13\n",
    "import sys\n",
    "\n",
    "num = {} \n",
    "str1 = {} \n",
    "count = 1\n",
    "for i in list('abcdefghijklmnopqrstuvwxyz'):\n",
    "    str1[i] = count\n",
    "    num[count] = i\n",
    "    count += 1\n",
    "result = ''\n",
    "\n",
    "for i in list(sys.stdin.readline())[:-1]:\n",
    "    if i == ' ' or i.isdigit():\n",
    "        result += i\n",
    "        continue\n",
    "    \n",
    "    i_low = i.lower()\n",
    "    \n",
    "    value = str1[i_low] + 13\n",
    "    if value > 26:\n",
    "        value -= 26\n",
    "    \n",
    "    if i.islower():\n",
    "        result += num[value]\n",
    "\n",
    "    else:\n",
    "        result += num[value].upper()\n",
    "\n",
    "print(result)"
   ]
  },
  {
   "cell_type": "code",
   "execution_count": null,
   "metadata": {},
   "outputs": [],
   "source": [
    "#13 네 수\n",
    "\n",
    "A,B,C,D=map(str, input().split())\n",
    "\n",
    "print(int(A+B)+ int(C+D))"
   ]
  },
  {
   "cell_type": "code",
   "execution_count": null,
   "metadata": {},
   "outputs": [],
   "source": [
    "#14 접미사 배열\n",
    "s = input() \n",
    "lst = [] \n",
    "for i in range(len(s)): \n",
    "    lst.append(s[i:]) \n",
    "lst.sort() \n",
    "for i in lst:\n",
    "    print(i)\n",
    "\n"
   ]
  },
  {
   "cell_type": "code",
   "execution_count": null,
   "metadata": {},
   "outputs": [],
   "source": [
    "#15 요세푸스 문제\n",
    "N, K = map(int, input().split()) \n",
    "cir_list = [] \n",
    "ans = [] \n",
    "for i in range(N): \n",
    "    cir_list.append(i+1) \n",
    "pop = 0 \n",
    "while len(cir_list) >0: \n",
    "    pop = (pop+ (K-1)) % len(cir_list) \n",
    "    k = cir_list.pop(pop) \n",
    "    ans.append(str(k)) \n",
    "print(\"<%s>\" %(\", \".join(ans)))"
   ]
  },
  {
   "cell_type": "code",
   "execution_count": null,
   "metadata": {},
   "outputs": [],
   "source": []
  }
 ],
 "metadata": {
  "kernelspec": {
   "display_name": "Python 3",
   "language": "python",
   "name": "python3"
  },
  "language_info": {
   "codemirror_mode": {
    "name": "ipython",
    "version": 3
   },
   "file_extension": ".py",
   "mimetype": "text/x-python",
   "name": "python",
   "nbconvert_exporter": "python",
   "pygments_lexer": "ipython3",
   "version": "3.8.5"
  }
 },
 "nbformat": 4,
 "nbformat_minor": 4
}
